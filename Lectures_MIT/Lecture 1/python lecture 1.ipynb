{
 "cells": [
  {
   "cell_type": "code",
   "execution_count": 6,
   "id": "3529aec3-8319-448b-918a-b34fc9ca4be1",
   "metadata": {},
   "outputs": [
    {
     "name": "stdout",
     "output_type": "stream",
     "text": [
      "123.0 8 7.0 7 7\n"
     ]
    }
   ],
   "source": [
    "#type conversions\n",
    "a=float(123)\n",
    "b=round(7.9)\n",
    "c=float(round(7.2))\n",
    "d=int(7.2)\n",
    "e=int(7.9)\n",
    "print(a,b,c,d,e)"
   ]
  },
  {
   "cell_type": "code",
   "execution_count": 6,
   "id": "ff4ed532-00eb-4b1e-b99b-c90440672aaa",
   "metadata": {},
   "outputs": [
    {
     "name": "stdout",
     "output_type": "stream",
     "text": [
      "hello,\n",
      " world\n",
      "0.0625 \n",
      " <class 'int'> \n",
      " <class 'float'> \n",
      " 0\n"
     ]
    }
   ],
   "source": [
    "\n",
    "#expressions\n",
    "a=(13-4) / (12*12)\n",
    "b=type(4*3)\n",
    "c=type(4.0*3)\n",
    "d=int(1/2)\n",
    "print(\"hello,\\n world\")\n",
    "print(a,\"\\n\",b,\"\\n\",c,\"\\n\",d)"
   ]
  },
  {
   "cell_type": "code",
   "execution_count": 12,
   "id": "aea6abdc-f735-445c-9fb0-4aac640d85bb",
   "metadata": {},
   "outputs": [
    {
     "name": "stdout",
     "output_type": "stream",
     "text": [
      "meters: 100\n",
      "feet 328.08000000000004\n",
      "meters: 200\n",
      "656.1600000000001\n"
     ]
    }
   ],
   "source": [
    "#line by line execution\n",
    "meters = 100\n",
    "print(\"meters:\",meters)\n",
    "feet = 3.2808 * meters\n",
    "print(\"feet\",feet)\n",
    "meters = 200\n",
    "print(\"meters:\",meters)\n",
    "feet = 3.2808 * meters\n",
    "print(feet)\n"
   ]
  },
  {
   "cell_type": "code",
   "execution_count": 15,
   "id": "ada53461-a019-4b62-9bda-01c5e6c5873a",
   "metadata": {},
   "outputs": [
    {
     "name": "stdout",
     "output_type": "stream",
     "text": [
      "2 1\n"
     ]
    }
   ],
   "source": [
    "#swap values\n",
    "x=1\n",
    "y=2\n",
    "temp=x\n",
    "x=y\n",
    "y=temp\n",
    "print(x,y)\n"
   ]
  },
  {
   "cell_type": "code",
   "execution_count": null,
   "id": "19c79b67-1deb-482c-8070-22c156c38797",
   "metadata": {},
   "outputs": [],
   "source": []
  }
 ],
 "metadata": {
  "kernelspec": {
   "display_name": "Python 3 (ipykernel)",
   "language": "python",
   "name": "python3"
  },
  "language_info": {
   "codemirror_mode": {
    "name": "ipython",
    "version": 3
   },
   "file_extension": ".py",
   "mimetype": "text/x-python",
   "name": "python",
   "nbconvert_exporter": "python",
   "pygments_lexer": "ipython3",
   "version": "3.12.0"
  }
 },
 "nbformat": 4,
 "nbformat_minor": 5
}
